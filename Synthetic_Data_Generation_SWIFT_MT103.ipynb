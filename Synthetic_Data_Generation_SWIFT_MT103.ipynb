{
 "cells": [
  {
   "cell_type": "markdown",
   "id": "3a66a6fa",
   "metadata": {},
   "source": [
    "## Synthetic Data Generation - SWIFT MT103\n",
    "\n",
    "Synthetic data for SWIFT MT103(Single Customer Credit Transfer) creates curated synthetic data which helps banks and other financial institutions to test their systems, do simulation exercises, train employees and do compliance testing without getting exposed to actual SWIFT messages. These synthetic swift messages mimic actual transactions in their format and structure. The synthetic data is generated for both the Mandatory and Optional tags, hence users can get data for every kind of transaction through message type MT103. The solution also gives users to get information of how a swift transaction would look like between certain countries, currencies and banks of their choice. Added to it users can enter custom banks for synthetic data generation. This would help generate data for specifically for some banks/financial institutions/countries.  \n",
    "\n",
    "This sample notebook shows you how to execute Synthetic Data Generation - SWIFT MT103 Algorithm from AWS Marketplace \n",
    "\n",
    "> **Note**: This is a reference notebook and it cannot run unless you make changes suggested in the notebook.\n",
    "\n",
    "#### Pre-requisites:\n",
    "1. **Note**: This notebook contains elements which render correctly in Jupyter interface. Open this notebook from an Amazon SageMaker Notebook Instance or Amazon SageMaker Studio.\n",
    "1. Ensure that IAM role used has **AmazonSageMakerFullAccess**\n",
    "1. Some hands-on experience using [Amazon SageMaker](https://aws.amazon.com/sagemaker/).\n",
    "1. To use this algorithm successfully, ensure that:\n",
    "    1. Either your IAM role has these three permissions and you have authority to make AWS Marketplace subscriptions in the AWS account used: \n",
    "        1. **aws-marketplace:ViewSubscriptions**\n",
    "        1. **aws-marketplace:Unsubscribe**\n",
    "        1. **aws-marketplace:Subscribe**  \n",
    "    2. or your AWS account has a subscription to For Seller to update: Synthetic Data Generation - SWIFT MT103. \n",
    "\n",
    "#### Contents:\n",
    "1. [Subscribe to the algorithm](#1.-Subscribe-to-the-algorithm)\n",
    "1. [Prepare dataset](#2.-Prepare-dataset)\n",
    "\t1. [Dataset format expected by the algorithm](#A.-Dataset-format-expected-by-the-algorithm)\n",
    "\t1. [Configure dataset](#B.-Configure-dataset)\n",
    "\t1. [Upload datasets to Amazon S3](#C.-Upload-datasets-to-Amazon-S3)\n",
    "1. [Execute optimization model](#3.-Execute-optimization-model)\n",
    "\t1. [Set up environment](#3.1-Set-up-environment)\n",
    "\t1. [Execute model](#3.2-Execute-model)\n",
    "    1. [Visualize Output](#3.3-Inspect-the-Output-in-S3)\n",
    "1. [Clean-up](#4.-Clean-up)\n",
    "\t1. [Unsubscribe to the listing (optional)](#Unsubscribe-to-the-listing-(optional))\n",
    "\n",
    "\n",
    "#### Usage instructions\n",
    "You can run this notebook one cell at a time (By using Shift+Enter for running a cell)."
   ]
  },
  {
   "cell_type": "markdown",
   "id": "e827a672",
   "metadata": {},
   "source": [
    "### 1. Subscribe to the algorithm"
   ]
  },
  {
   "cell_type": "markdown",
   "id": "7fc85517",
   "metadata": {},
   "source": [
    "To subscribe to the algorithm:\n",
    "1. Open the algorithm listing page **Synthetic Data Generation - SWIFT MT103**\n",
    "1. On the AWS Marketplace listing,  click on **Continue to subscribe** button.\n",
    "1. On the **Subscribe to this software** page, review and click on **\"Accept Offer\"** if you agree with EULA, pricing, and support terms. \n",
    "1. Once you click on **Continue to configuration button** and then choose a **region**, you will see a **Product Arn**. This is the algorithm ARN that you need to specify while training a custom ML model. Copy the ARN corresponding to your region and specify the same in the following cell."
   ]
  },
  {
   "cell_type": "code",
   "execution_count": 1,
   "id": "d45e8353",
   "metadata": {},
   "outputs": [],
   "source": [
    "algo_arn = \"swift-listing-mt-103\"\n"
   ]
  },
  {
   "cell_type": "markdown",
   "id": "a6f30868",
   "metadata": {},
   "source": [
    "### 2. Prepare dataset"
   ]
  },
  {
   "cell_type": "code",
   "execution_count": 2,
   "id": "da8b1a0b",
   "metadata": {},
   "outputs": [],
   "source": [
    "import os\n",
    "import json \n",
    "import uuid\n",
    "import boto3\n",
    "import pickle\n",
    "import base64\n",
    "import tarfile\n",
    "from pprint import pprint\n",
    "from PIL import Image\n",
    "\n",
    "import numpy as np\n",
    "import pandas as pd\n",
    "\n",
    "import urllib.request\n",
    "from urllib.parse import urlparse\n",
    "\n",
    "import sagemaker as sage\n",
    "from sagemaker import ModelPackage\n",
    "from sagemaker import get_execution_role"
   ]
  },
  {
   "cell_type": "markdown",
   "id": "3b36eed5",
   "metadata": {},
   "source": [
    "#### A. Dataset format expected by the algorithm"
   ]
  },
  {
   "cell_type": "markdown",
   "id": "4f468699",
   "metadata": {},
   "source": [
    "The algorithm requires data in the format as described for best results:\n",
    "* Input File name should be input_zip.zip\n",
    "* The input data files must contain one json file(containing countries,banks and currencies across which they wish to see transactions) and/or a csv file(optional) containing extra banks/currencies/countries which user wants to input.\n",
    "* For detailed instructions, please refer sample notebook and algorithm input details."
   ]
  },
  {
   "cell_type": "markdown",
   "id": "9ee0430c",
   "metadata": {},
   "source": [
    "#### B. Configure dataset"
   ]
  },
  {
   "cell_type": "code",
   "execution_count": 3,
   "id": "45d3ae82",
   "metadata": {},
   "outputs": [],
   "source": [
    "training_dataset=\"Input/input_zip.zip\""
   ]
  },
  {
   "cell_type": "markdown",
   "id": "86ff0f61",
   "metadata": {},
   "source": [
    "#### C. Upload datasets to Amazon S3"
   ]
  },
  {
   "cell_type": "code",
   "execution_count": 4,
   "id": "82a94beb",
   "metadata": {},
   "outputs": [],
   "source": [
    "role = get_execution_role()"
   ]
  },
  {
   "cell_type": "code",
   "execution_count": null,
   "id": "533a7e25",
   "metadata": {},
   "outputs": [],
   "source": [
    "sagemaker_session = sage.Session()\n",
    "\n",
    "bucket = sagemaker_session.default_bucket()\n",
    "bucket"
   ]
  },
  {
   "cell_type": "code",
   "execution_count": null,
   "id": "bb622cd3",
   "metadata": {},
   "outputs": [],
   "source": [
    "# training input location\n",
    "common_prefix = \"swift-listing\"\n",
    "training_input_prefix = common_prefix + \"/training-input-data\"\n",
    "TRAINING_WORKDIR = \"Input\" #Input directory in Jupyter Server\n",
    "training_input = sagemaker_session.upload_data(TRAINING_WORKDIR, key_prefix=training_input_prefix) #uploads data from jupyter server to S3\n",
    "print(\"Training input uploaded to \" + training_input)"
   ]
  },
  {
   "cell_type": "markdown",
   "id": "1a540ff1",
   "metadata": {},
   "source": [
    "## 3. Execute the training process"
   ]
  },
  {
   "cell_type": "markdown",
   "id": "7b5c47bf",
   "metadata": {},
   "source": [
    "Now that dataset is available in an accessible Amazon S3 bucket, we are ready to execute a training pipeline to get clean sentiment class labels using clean-sentiment-classification-labels Algorithm. "
   ]
  },
  {
   "cell_type": "markdown",
   "id": "8189f9b8",
   "metadata": {},
   "source": [
    "### 3.1 Set up environment"
   ]
  },
  {
   "cell_type": "code",
   "execution_count": 7,
   "id": "92d6c470",
   "metadata": {},
   "outputs": [],
   "source": [
    "output_location = 's3://{}/swift-listing/{}'.format(bucket, 'Output')"
   ]
  },
  {
   "cell_type": "markdown",
   "id": "b41f6491",
   "metadata": {},
   "source": [
    "### 3.2 Execute model"
   ]
  },
  {
   "cell_type": "markdown",
   "id": "2d55786e",
   "metadata": {},
   "source": [
    "For information on creating an `Estimator` object, see [documentation](https://sagemaker.readthedocs.io/en/stable/api/training/estimators.html)"
   ]
  },
  {
   "cell_type": "code",
   "execution_count": 8,
   "id": "59525527",
   "metadata": {},
   "outputs": [],
   "source": [
    "training_instance_type=\"ml.m5.4xlarge\""
   ]
  },
  {
   "cell_type": "code",
   "execution_count": 9,
   "id": "2d740b02",
   "metadata": {
    "scrolled": true
   },
   "outputs": [
    {
     "name": "stdout",
     "output_type": "stream",
     "text": [
      "2023-11-28 08:43:41 Starting - Starting the training job...\n",
      "2023-11-28 08:44:04 Starting - Preparing the instances for trainingProfilerReport-1701161020: InProgress\n",
      "......\n",
      "2023-11-28 08:45:04 Downloading - Downloading input data...\n",
      "2023-11-28 08:45:24 Training - Downloading the training image.........\n",
      "2023-11-28 08:47:11 Training - Training image download completed. Training in progress......\u001b[34m/usr/local/lib/python3.8/dist-packages/rdt/transformers/base.py:132: FutureWarning: Future versions of RDT will not support the 'model_missing_values' parameter. Please switch to using the 'missing_value_generation' parameter to select your strategy.\n",
      "  warnings.warn(\u001b[0m\n",
      "\u001b[34mTrue\u001b[0m\n",
      "\u001b[34mEmpty DataFrame\u001b[0m\n",
      "\u001b[34mColumns: [ISO COUNTRY CODE, COUNTRY NAME, INSTITUTION NAME, IBAN BIC, ADDRESS_BANK, CURRENCY]\u001b[0m\n",
      "\u001b[34mIndex: []\u001b[0m\n",
      "\u001b[34m/usr/local/lib/python3.8/dist-packages/rdt/transformers/base.py:132: FutureWarning: Future versions of RDT will not support the 'model_missing_values' parameter. Please switch to using the 'missing_value_generation' parameter to select your strategy.\n",
      "  warnings.warn(\u001b[0m\n",
      "\u001b[34m#015  0%|          | 0/100 [00:00<?, ?it/s]#015Sampling rows:   0%|          | 0/100 [00:00<?, ?it/s]#015Sampling rows: 100%|██████████| 100/100 [00:00<00:00, 1623.04it/s]\u001b[0m\n",
      "\u001b[34m/opt/program/main.py:230: SettingWithCopyWarning: \u001b[0m\n",
      "\u001b[34mA value is trying to be set on a copy of a slice from a DataFrame\u001b[0m\n",
      "\u001b[34mSee the caveats in the documentation: https://pandas.pydata.org/pandas-docs/stable/user_guide/indexing.html#returning-a-view-versus-a-copy\n",
      "  synth_data['tag_23_e'][i] = synth_data['tag_23_e'][i]+random.choice(['','/'+str(random.randint(10 ** (num_digits - 1), 10 ** num_digits - 1))])\u001b[0m\n",
      "\u001b[34mtraining complete\u001b[0m\n",
      "\n",
      "2023-11-28 08:50:45 Uploading - Uploading generated training model\n",
      "2023-11-28 08:50:45 Completed - Training job completed\n",
      "ProfilerReport-1701161020: NoIssuesFound\n",
      "Training seconds: 328\n",
      "Billable seconds: 328\n"
     ]
    }
   ],
   "source": [
    "#Create an estimator object for running a training job\n",
    "estimator = sage.algorithm.AlgorithmEstimator(\n",
    "    algorithm_arn=algo_arn,\n",
    "    base_job_name=\"swift-listing-algo\",\n",
    "    role=role,\n",
    "    train_instance_count=1,\n",
    "    train_instance_type=training_instance_type,\n",
    "    input_mode=\"File\",\n",
    "    output_path=output_location,\n",
    "    sagemaker_session=sagemaker_session,\n",
    "    instance_count=1,\n",
    "    instance_type=training_instance_type\n",
    ")\n",
    "\n",
    "#Run the training job.\n",
    "estimator.fit({\"training\": training_input})"
   ]
  },
  {
   "cell_type": "markdown",
   "id": "17fa9d15",
   "metadata": {},
   "source": [
    "See this [blog-post](https://aws.amazon.com/blogs/machine-learning/easily-monitor-and-visualize-metrics-while-training-models-on-amazon-sagemaker/) for more information how to visualize metrics during the process. You can also open the training job from [Amazon SageMaker console](https://console.aws.amazon.com/sagemaker/home?#/jobs/) and monitor the metrics/logs in **Monitor** section."
   ]
  },
  {
   "cell_type": "code",
   "execution_count": null,
   "id": "9b61b123",
   "metadata": {},
   "outputs": [],
   "source": [
    "#output is available on following path\n",
    "estimator.output_path"
   ]
  },
  {
   "cell_type": "markdown",
   "id": "096fac70",
   "metadata": {},
   "source": [
    "## Note: Inferencing is done within training pipeline. Real time inference endpoint/batch transform job is not required."
   ]
  },
  {
   "cell_type": "markdown",
   "id": "b29eb6d3",
   "metadata": {},
   "source": [
    "### 3.3 Inspect the Output in S3"
   ]
  },
  {
   "cell_type": "code",
   "execution_count": 11,
   "id": "8f288204",
   "metadata": {},
   "outputs": [],
   "source": [
    "parsed_url = urlparse(estimator.output_path)\n",
    "bucket_name = parsed_url.netloc\n",
    "file_key = parsed_url.path[1:]+'/'+estimator.latest_training_job.job_name+'/output/'+\"model.tar.gz\"\n",
    "\n",
    "s3_client = sagemaker_session.boto_session.client('s3')\n",
    "response = s3_client.get_object(Bucket = sagemaker_session.default_bucket(), Key = file_key)"
   ]
  },
  {
   "cell_type": "code",
   "execution_count": 12,
   "id": "4c5512bf",
   "metadata": {},
   "outputs": [],
   "source": [
    "bucketFolder = estimator.output_path.rsplit('/')[3] +'/Output/'+ estimator.latest_training_job.job_name+'/output/'+\"model.tar.gz\""
   ]
  },
  {
   "cell_type": "code",
   "execution_count": 13,
   "id": "83e392ab",
   "metadata": {},
   "outputs": [
    {
     "name": "stderr",
     "output_type": "stream",
     "text": [
      "/home/ec2-user/anaconda3/envs/python3/lib/python3.6/site-packages/boto3/compat.py:88: PythonDeprecationWarning: Boto3 will no longer support Python 3.6 starting May 30, 2022. To continue receiving service updates, bug fixes, and security updates please upgrade to Python 3.7 or later. More information can be found here: https://aws.amazon.com/blogs/developer/python-support-policy-updates-for-aws-sdks-and-tools/\n",
      "  warnings.warn(warning, PythonDeprecationWarning)\n"
     ]
    },
    {
     "name": "stdout",
     "output_type": "stream",
     "text": [
      "Output file loaded from bucket\n"
     ]
    }
   ],
   "source": [
    "s3_conn = boto3.client(\"s3\")\n",
    "bucket_name=bucket\n",
    "with open('output.tar.gz', 'wb') as f:\n",
    "    s3_conn.download_fileobj(bucket_name, bucketFolder, f)\n",
    "    print(\"Output file loaded from bucket\")"
   ]
  },
  {
   "cell_type": "code",
   "execution_count": 14,
   "id": "e7a99e66",
   "metadata": {},
   "outputs": [],
   "source": [
    "with tarfile.open('output.tar.gz') as file:\n",
    "    file.extractall('./output')"
   ]
  },
  {
   "cell_type": "code",
   "execution_count": 15,
   "id": "0f217442",
   "metadata": {},
   "outputs": [
    {
     "data": {
      "text/html": [
       "<div>\n",
       "<style scoped>\n",
       "    .dataframe tbody tr th:only-of-type {\n",
       "        vertical-align: middle;\n",
       "    }\n",
       "\n",
       "    .dataframe tbody tr th {\n",
       "        vertical-align: top;\n",
       "    }\n",
       "\n",
       "    .dataframe thead th {\n",
       "        text-align: right;\n",
       "    }\n",
       "</style>\n",
       "<table border=\"1\" class=\"dataframe\">\n",
       "  <thead>\n",
       "    <tr style=\"text-align: right;\">\n",
       "      <th></th>\n",
       "      <th>ID</th>\n",
       "      <th>MESSAGE TYPE</th>\n",
       "      <th>SENDER</th>\n",
       "      <th>RECEIVER</th>\n",
       "      <th>:20:</th>\n",
       "      <th>:23B:</th>\n",
       "      <th>:23E:</th>\n",
       "      <th>:32A:</th>\n",
       "      <th>:33B:</th>\n",
       "      <th>:50A:</th>\n",
       "      <th>...</th>\n",
       "      <th>:56C:</th>\n",
       "      <th>:56D:</th>\n",
       "      <th>:57A:</th>\n",
       "      <th>:57B:</th>\n",
       "      <th>:57C:</th>\n",
       "      <th>:57D:</th>\n",
       "      <th>:59:</th>\n",
       "      <th>:59A:</th>\n",
       "      <th>:59F:</th>\n",
       "      <th>:71A:</th>\n",
       "    </tr>\n",
       "  </thead>\n",
       "  <tbody>\n",
       "    <tr>\n",
       "      <th>0</th>\n",
       "      <td>0</td>\n",
       "      <td>fin.103</td>\n",
       "      <td>BCSIBRRSXXX</td>\n",
       "      <td>BROUBRSPXXX</td>\n",
       "      <td>KJZ7ZC7NUGSGAEHW</td>\n",
       "      <td>SSTD</td>\n",
       "      <td>TELE</td>\n",
       "      <td>210623BRL1116,50</td>\n",
       "      <td>GBP7487841,50</td>\n",
       "      <td>/X17632329256582851536BCSIBRRSXXX</td>\n",
       "      <td>...</td>\n",
       "      <td>ABBYGB2LXXX</td>\n",
       "      <td>ABBYGB2LXXX SIMLTK XALOF BANK UNITED KINGDOM</td>\n",
       "      <td>BCSIBRRSXXX</td>\n",
       "      <td>BCSIBRRSXXX BRAZIL</td>\n",
       "      <td>BCSIBRRSXXX</td>\n",
       "      <td>BCSIBRRSXXX TBCZVV XYUXX BANK BRAZIL</td>\n",
       "      <td>/S2412791\\nBALCYE THSKMQWBTX\\n634 Howard keys\\...</td>\n",
       "      <td>/T497120904545335293HDFCINBB</td>\n",
       "      <td>/W2083346537\\n1\\TJYZLU OMKCVYOZXX\\n2\\Studio 56...</td>\n",
       "      <td>OUR</td>\n",
       "    </tr>\n",
       "    <tr>\n",
       "      <th>1</th>\n",
       "      <td>1</td>\n",
       "      <td>fin.103</td>\n",
       "      <td>ABBYGB2LXXX</td>\n",
       "      <td>BCSIBRRSXXX</td>\n",
       "      <td>57SPWKTUGSQC4NW6</td>\n",
       "      <td>SSTD</td>\n",
       "      <td>TELB/64957810637712</td>\n",
       "      <td>220518BRL919982054,90</td>\n",
       "      <td>BRL4760690,30</td>\n",
       "      <td>/C12197648810508998500BVSPBRSP</td>\n",
       "      <td>...</td>\n",
       "      <td>ABBYGB2LXXX</td>\n",
       "      <td>ABBYGB2LXXX QTRYXR EYLLO BANK UNITED KINGDOM</td>\n",
       "      <td>CHASBRSPXXX</td>\n",
       "      <td>CHASBRSPXXX BRAZIL</td>\n",
       "      <td>CHASBRSPXXX</td>\n",
       "      <td>CHASBRSPXXX LUJIHW JPSSC BANK BRAZIL</td>\n",
       "      <td>/Z9036039\\nFVZFDT BEEMCMKZOD\\nFlat 21\\nGilbert...</td>\n",
       "      <td>/A879108566593063636BCSIBRRSXXX</td>\n",
       "      <td>/N7764134276\\n1\\WBIFOY EOKWJMLJAD\\n2\\Studio 28...</td>\n",
       "      <td>SHA</td>\n",
       "    </tr>\n",
       "    <tr>\n",
       "      <th>2</th>\n",
       "      <td>2</td>\n",
       "      <td>fin.103</td>\n",
       "      <td>ABBYGB2LXXX</td>\n",
       "      <td>BCSIBRRSXXX</td>\n",
       "      <td>HSSU6QPZX3HXHOCM</td>\n",
       "      <td>SPRI</td>\n",
       "      <td>CHQB/79966398</td>\n",
       "      <td>210721GBP7615037,50</td>\n",
       "      <td>INR2937963,20</td>\n",
       "      <td>/G43645187412082124521BCSIBRRSXXX</td>\n",
       "      <td>...</td>\n",
       "      <td>PARABRPRXXX</td>\n",
       "      <td>PARABRPRXXX RSZACI MNJKU BANK BRAZIL</td>\n",
       "      <td>ABBYGB2LXXX</td>\n",
       "      <td>ABBYGB2LXXX UNITED KINGDOM</td>\n",
       "      <td>ABBYGB2LXXX</td>\n",
       "      <td>ABBYGB2LXXX WHWTKW TTAHJ BANK UNITED KINGDOM</td>\n",
       "      <td>/W3653113\\nSYCQGN AWBARMQISG\\n38 Hill canyon\\n...</td>\n",
       "      <td>/X425865724734676749BCSIBRRSXXX</td>\n",
       "      <td>/V9656040837\\n1\\WJNHGT DTKDBOFSIK\\n2\\Studio 75...</td>\n",
       "      <td>OUR</td>\n",
       "    </tr>\n",
       "    <tr>\n",
       "      <th>3</th>\n",
       "      <td>3</td>\n",
       "      <td>fin.103</td>\n",
       "      <td>ABCBBRSPXXX</td>\n",
       "      <td>ABBYGB2LXXX</td>\n",
       "      <td>YN36VQXZA7VULKES</td>\n",
       "      <td>CRTS</td>\n",
       "      <td>HOLD/359453261</td>\n",
       "      <td>210502BRL1116,50</td>\n",
       "      <td>GBP47766,90</td>\n",
       "      <td>/O98079440969742544431YORKGB22</td>\n",
       "      <td>...</td>\n",
       "      <td>BCSIBRRSXXX</td>\n",
       "      <td>BCSIBRRSXXX KUJULU DIUXK BANK BRAZIL</td>\n",
       "      <td>ABBYGB2LXXX</td>\n",
       "      <td>ABBYGB2LXXX United Kingdom</td>\n",
       "      <td>ABBYGB2LXXX</td>\n",
       "      <td>ABBYGB2LXXX KKGHIA LMUWS BANK UNITED KINGDOM</td>\n",
       "      <td>/Y1628057\\nLYVCKL YKIIXVRKLU\\n6 Bernard summit...</td>\n",
       "      <td>/V838759465724051813ABBYGB2LXXX</td>\n",
       "      <td>/D5891142008\\n1\\LUZMBD TDPATPFGYB\\n2\\134 Megan...</td>\n",
       "      <td>OUR</td>\n",
       "    </tr>\n",
       "    <tr>\n",
       "      <th>4</th>\n",
       "      <td>4</td>\n",
       "      <td>fin.103</td>\n",
       "      <td>PUNBINBBISB</td>\n",
       "      <td>BFATBRS1XXX</td>\n",
       "      <td>DET3OUUTOB8ROLYI</td>\n",
       "      <td>SPAY</td>\n",
       "      <td>PHOI</td>\n",
       "      <td>220830GBP10264220,40</td>\n",
       "      <td>GBP4719104,80</td>\n",
       "      <td>/B62083417322237904403ABBYGB2LXXX</td>\n",
       "      <td>...</td>\n",
       "      <td>BCSIBRRSXXX</td>\n",
       "      <td>BCSIBRRSXXX OSWCIP QCLNS BANK BRAZIL</td>\n",
       "      <td>ABBYGB2LXXX</td>\n",
       "      <td>ABBYGB2LXXX UNITED KINGDOM</td>\n",
       "      <td>ABBYGB2LXXX</td>\n",
       "      <td>ABBYGB2LXXX IYECHQ RIWVZ BANK UNITED KINGDOM</td>\n",
       "      <td>/C8841536\\nVKPUHM PNBRLBRICK\\n749 Dixon turnpi...</td>\n",
       "      <td>/G874551919922471904PARABRPRXXX</td>\n",
       "      <td>/P7464361768\\n1\\QMHPAX GJTKVLJQQQ\\n2\\718 Melan...</td>\n",
       "      <td>BEN</td>\n",
       "    </tr>\n",
       "    <tr>\n",
       "      <th>5</th>\n",
       "      <td>5</td>\n",
       "      <td>fin.103</td>\n",
       "      <td>LOYDGB2L</td>\n",
       "      <td>BCSIBRRSXXX</td>\n",
       "      <td>HMGJCPBYLAQC3RKS</td>\n",
       "      <td>SSTD</td>\n",
       "      <td>PHOB/67155</td>\n",
       "      <td>211208GBP1002839,50</td>\n",
       "      <td>GBP1056,90</td>\n",
       "      <td>/O24663090317178612075BTGPBRSP</td>\n",
       "      <td>...</td>\n",
       "      <td>GOLDBRSPXXX</td>\n",
       "      <td>GOLDBRSPXXX RCOFZY SUAZJ BANK BRAZIL</td>\n",
       "      <td>ABBYGB2LXXX</td>\n",
       "      <td>ABBYGB2LXXX UNITED KINGDOM</td>\n",
       "      <td>ABBYGB2LXXX</td>\n",
       "      <td>ABBYGB2LXXX DBEGBM AHGHK BANK UNITED KINGDOM</td>\n",
       "      <td>/M9921262\\nZERCEU HOZBFTJWXR\\n791 Denise strea...</td>\n",
       "      <td>/C559942106949140595UBININBBXXX</td>\n",
       "      <td>/P6955121921\\n1\\XYNVOE NTNYYSHYBN\\n2\\4 Smith j...</td>\n",
       "      <td>BEN</td>\n",
       "    </tr>\n",
       "    <tr>\n",
       "      <th>6</th>\n",
       "      <td>6</td>\n",
       "      <td>fin.103</td>\n",
       "      <td>ABBYGB2LXXX</td>\n",
       "      <td>ABBYGB2LXXX</td>\n",
       "      <td>KPN8IDRVAYNIPQAR</td>\n",
       "      <td>SSTD</td>\n",
       "      <td>REPA</td>\n",
       "      <td>210327GBP732037378,10</td>\n",
       "      <td>BRL1056,90</td>\n",
       "      <td>/A32425732061563809141PARABRPRXXX</td>\n",
       "      <td>...</td>\n",
       "      <td>BCSIBRRSXXX</td>\n",
       "      <td>BCSIBRRSXXX OGXYXK CZXZH BANK BRAZIL</td>\n",
       "      <td>BCSIBRRSXXX</td>\n",
       "      <td>BCSIBRRSXXX BRAZIL</td>\n",
       "      <td>BCSIBRRSXXX</td>\n",
       "      <td>BCSIBRRSXXX OGXYXK CZXZH BANK BRAZIL</td>\n",
       "      <td>/J9317152\\nKZXYLF ZHURHYWPYR\\nStudio 66\\nSusan...</td>\n",
       "      <td>/Y642043149058574298HSBCGB2L</td>\n",
       "      <td>/N6044191711\\n1\\FIYJNJ XMXGJVMYQN\\n2\\Studio 09...</td>\n",
       "      <td>OUR</td>\n",
       "    </tr>\n",
       "    <tr>\n",
       "      <th>7</th>\n",
       "      <td>7</td>\n",
       "      <td>fin.103</td>\n",
       "      <td>MSDWBRSPXXX</td>\n",
       "      <td>ABBYGB2LXXX</td>\n",
       "      <td>TMWF2MIWCO83GW1G</td>\n",
       "      <td>CRTS</td>\n",
       "      <td>PHOI</td>\n",
       "      <td>220419GBP10713033,00</td>\n",
       "      <td>BRL6198032,20</td>\n",
       "      <td>/E57158898134958564055BCSIBRRSXXX</td>\n",
       "      <td>...</td>\n",
       "      <td>CLYDGB2S</td>\n",
       "      <td>CLYDGB2S CPTAYH RTACC BANK UNITED KINGDOM</td>\n",
       "      <td>PARABRPRXXX</td>\n",
       "      <td>PARABRPRXXX BRAZIL</td>\n",
       "      <td>PARABRPRXXX</td>\n",
       "      <td>PARABRPRXXX EUHAVX VHZBT BANK BRAZIL</td>\n",
       "      <td>/M4747512\\nUATZWZ EMVRFDZJBU\\nStudio 60u\\nDami...</td>\n",
       "      <td>/F534940023536855290BCSIBRRSXXX</td>\n",
       "      <td>/L1938983540\\n1\\XYVRSS RWSCEBPVME\\n2\\399 Burns...</td>\n",
       "      <td>OUR</td>\n",
       "    </tr>\n",
       "    <tr>\n",
       "      <th>8</th>\n",
       "      <td>8</td>\n",
       "      <td>fin.103</td>\n",
       "      <td>TOPZBRRSXXX</td>\n",
       "      <td>ABBYGB2LXXX</td>\n",
       "      <td>XXM3JS5U7DHZJSYM</td>\n",
       "      <td>SSTD</td>\n",
       "      <td>TELB</td>\n",
       "      <td>211226GBP1116,50</td>\n",
       "      <td>INR222986387,30</td>\n",
       "      <td>/H65485469958373849012ABBYGB2LXXX</td>\n",
       "      <td>...</td>\n",
       "      <td>TSBSGB2A</td>\n",
       "      <td>TSBSGB2A MPWQJT EDLVC BANK UNITED KINGDOM</td>\n",
       "      <td>ABBYGB2LXXX</td>\n",
       "      <td>ABBYGB2LXXX UNITED KINGDOM</td>\n",
       "      <td>ABBYGB2LXXX</td>\n",
       "      <td>ABBYGB2LXXX OJJQHK FYSRX BANK UNITED KINGDOM</td>\n",
       "      <td>/N8536450\\nHIYCGZ MBLMFIQSEE\\nStudio 8\\nCarol ...</td>\n",
       "      <td>/H679415063184588923BSFRBRSPXXX</td>\n",
       "      <td>/E8222515548\\n1\\QENHUN OBPKSUGECC\\n2\\2 Russell...</td>\n",
       "      <td>OUR</td>\n",
       "    </tr>\n",
       "    <tr>\n",
       "      <th>9</th>\n",
       "      <td>9</td>\n",
       "      <td>fin.103</td>\n",
       "      <td>BSCHBRSPXXX</td>\n",
       "      <td>ABBYGB2LXXX</td>\n",
       "      <td>7C4YF4QSYDV9RSKF</td>\n",
       "      <td>SSTD</td>\n",
       "      <td>CHQB/876423</td>\n",
       "      <td>220209INR792459847,20</td>\n",
       "      <td>BRL340354,50</td>\n",
       "      <td>/L77982798248725853373BCSIBRRSXXX</td>\n",
       "      <td>...</td>\n",
       "      <td>ABBYGB2LXXX</td>\n",
       "      <td>ABBYGB2LXXX SWXCZA CNQQO BANK UNITED KINGDOM</td>\n",
       "      <td>//IN86360598611SBININBBXXX</td>\n",
       "      <td>//IN86360598611SBININBBXXX India</td>\n",
       "      <td>SBININBBXXX</td>\n",
       "      <td>//IN86360598611SBININBBXXX FWOULI ZCYKI BANK I...</td>\n",
       "      <td>/T1924765\\nYASHOO VGASFWOELA\\n17 White groves\\...</td>\n",
       "      <td>/A848244270211364473ABBYGB2LXXX</td>\n",
       "      <td>/O1932811560\\n1\\BDJZXC CQPCTUDAJD\\n2\\Studio 19...</td>\n",
       "      <td>SHA</td>\n",
       "    </tr>\n",
       "  </tbody>\n",
       "</table>\n",
       "<p>10 rows × 31 columns</p>\n",
       "</div>"
      ],
      "text/plain": [
       "   ID MESSAGE TYPE       SENDER     RECEIVER              :20: :23B:  \\\n",
       "0   0      fin.103  BCSIBRRSXXX  BROUBRSPXXX  KJZ7ZC7NUGSGAEHW  SSTD   \n",
       "1   1      fin.103  ABBYGB2LXXX  BCSIBRRSXXX  57SPWKTUGSQC4NW6  SSTD   \n",
       "2   2      fin.103  ABBYGB2LXXX  BCSIBRRSXXX  HSSU6QPZX3HXHOCM  SPRI   \n",
       "3   3      fin.103  ABCBBRSPXXX  ABBYGB2LXXX  YN36VQXZA7VULKES  CRTS   \n",
       "4   4      fin.103  PUNBINBBISB  BFATBRS1XXX  DET3OUUTOB8ROLYI  SPAY   \n",
       "5   5      fin.103     LOYDGB2L  BCSIBRRSXXX  HMGJCPBYLAQC3RKS  SSTD   \n",
       "6   6      fin.103  ABBYGB2LXXX  ABBYGB2LXXX  KPN8IDRVAYNIPQAR  SSTD   \n",
       "7   7      fin.103  MSDWBRSPXXX  ABBYGB2LXXX  TMWF2MIWCO83GW1G  CRTS   \n",
       "8   8      fin.103  TOPZBRRSXXX  ABBYGB2LXXX  XXM3JS5U7DHZJSYM  SSTD   \n",
       "9   9      fin.103  BSCHBRSPXXX  ABBYGB2LXXX  7C4YF4QSYDV9RSKF  SSTD   \n",
       "\n",
       "                 :23E:                  :32A:            :33B:  \\\n",
       "0                 TELE       210623BRL1116,50    GBP7487841,50   \n",
       "1  TELB/64957810637712  220518BRL919982054,90    BRL4760690,30   \n",
       "2        CHQB/79966398    210721GBP7615037,50    INR2937963,20   \n",
       "3       HOLD/359453261       210502BRL1116,50      GBP47766,90   \n",
       "4                 PHOI   220830GBP10264220,40    GBP4719104,80   \n",
       "5           PHOB/67155    211208GBP1002839,50       GBP1056,90   \n",
       "6                 REPA  210327GBP732037378,10       BRL1056,90   \n",
       "7                 PHOI   220419GBP10713033,00    BRL6198032,20   \n",
       "8                 TELB       211226GBP1116,50  INR222986387,30   \n",
       "9          CHQB/876423  220209INR792459847,20     BRL340354,50   \n",
       "\n",
       "                               :50A:  ...        :56C:  \\\n",
       "0  /X17632329256582851536BCSIBRRSXXX  ...  ABBYGB2LXXX   \n",
       "1     /C12197648810508998500BVSPBRSP  ...  ABBYGB2LXXX   \n",
       "2  /G43645187412082124521BCSIBRRSXXX  ...  PARABRPRXXX   \n",
       "3     /O98079440969742544431YORKGB22  ...  BCSIBRRSXXX   \n",
       "4  /B62083417322237904403ABBYGB2LXXX  ...  BCSIBRRSXXX   \n",
       "5     /O24663090317178612075BTGPBRSP  ...  GOLDBRSPXXX   \n",
       "6  /A32425732061563809141PARABRPRXXX  ...  BCSIBRRSXXX   \n",
       "7  /E57158898134958564055BCSIBRRSXXX  ...     CLYDGB2S   \n",
       "8  /H65485469958373849012ABBYGB2LXXX  ...     TSBSGB2A   \n",
       "9  /L77982798248725853373BCSIBRRSXXX  ...  ABBYGB2LXXX   \n",
       "\n",
       "                                          :56D:                       :57A:  \\\n",
       "0  ABBYGB2LXXX SIMLTK XALOF BANK UNITED KINGDOM                 BCSIBRRSXXX   \n",
       "1  ABBYGB2LXXX QTRYXR EYLLO BANK UNITED KINGDOM                 CHASBRSPXXX   \n",
       "2          PARABRPRXXX RSZACI MNJKU BANK BRAZIL                 ABBYGB2LXXX   \n",
       "3          BCSIBRRSXXX KUJULU DIUXK BANK BRAZIL                 ABBYGB2LXXX   \n",
       "4          BCSIBRRSXXX OSWCIP QCLNS BANK BRAZIL                 ABBYGB2LXXX   \n",
       "5          GOLDBRSPXXX RCOFZY SUAZJ BANK BRAZIL                 ABBYGB2LXXX   \n",
       "6          BCSIBRRSXXX OGXYXK CZXZH BANK BRAZIL                 BCSIBRRSXXX   \n",
       "7     CLYDGB2S CPTAYH RTACC BANK UNITED KINGDOM                 PARABRPRXXX   \n",
       "8     TSBSGB2A MPWQJT EDLVC BANK UNITED KINGDOM                 ABBYGB2LXXX   \n",
       "9  ABBYGB2LXXX SWXCZA CNQQO BANK UNITED KINGDOM  //IN86360598611SBININBBXXX   \n",
       "\n",
       "                              :57B:        :57C:  \\\n",
       "0                BCSIBRRSXXX BRAZIL  BCSIBRRSXXX   \n",
       "1                CHASBRSPXXX BRAZIL  CHASBRSPXXX   \n",
       "2        ABBYGB2LXXX UNITED KINGDOM  ABBYGB2LXXX   \n",
       "3        ABBYGB2LXXX United Kingdom  ABBYGB2LXXX   \n",
       "4        ABBYGB2LXXX UNITED KINGDOM  ABBYGB2LXXX   \n",
       "5        ABBYGB2LXXX UNITED KINGDOM  ABBYGB2LXXX   \n",
       "6                BCSIBRRSXXX BRAZIL  BCSIBRRSXXX   \n",
       "7                PARABRPRXXX BRAZIL  PARABRPRXXX   \n",
       "8        ABBYGB2LXXX UNITED KINGDOM  ABBYGB2LXXX   \n",
       "9  //IN86360598611SBININBBXXX India  SBININBBXXX   \n",
       "\n",
       "                                               :57D:  \\\n",
       "0               BCSIBRRSXXX TBCZVV XYUXX BANK BRAZIL   \n",
       "1               CHASBRSPXXX LUJIHW JPSSC BANK BRAZIL   \n",
       "2       ABBYGB2LXXX WHWTKW TTAHJ BANK UNITED KINGDOM   \n",
       "3       ABBYGB2LXXX KKGHIA LMUWS BANK UNITED KINGDOM   \n",
       "4       ABBYGB2LXXX IYECHQ RIWVZ BANK UNITED KINGDOM   \n",
       "5       ABBYGB2LXXX DBEGBM AHGHK BANK UNITED KINGDOM   \n",
       "6               BCSIBRRSXXX OGXYXK CZXZH BANK BRAZIL   \n",
       "7               PARABRPRXXX EUHAVX VHZBT BANK BRAZIL   \n",
       "8       ABBYGB2LXXX OJJQHK FYSRX BANK UNITED KINGDOM   \n",
       "9  //IN86360598611SBININBBXXX FWOULI ZCYKI BANK I...   \n",
       "\n",
       "                                                :59:  \\\n",
       "0  /S2412791\\nBALCYE THSKMQWBTX\\n634 Howard keys\\...   \n",
       "1  /Z9036039\\nFVZFDT BEEMCMKZOD\\nFlat 21\\nGilbert...   \n",
       "2  /W3653113\\nSYCQGN AWBARMQISG\\n38 Hill canyon\\n...   \n",
       "3  /Y1628057\\nLYVCKL YKIIXVRKLU\\n6 Bernard summit...   \n",
       "4  /C8841536\\nVKPUHM PNBRLBRICK\\n749 Dixon turnpi...   \n",
       "5  /M9921262\\nZERCEU HOZBFTJWXR\\n791 Denise strea...   \n",
       "6  /J9317152\\nKZXYLF ZHURHYWPYR\\nStudio 66\\nSusan...   \n",
       "7  /M4747512\\nUATZWZ EMVRFDZJBU\\nStudio 60u\\nDami...   \n",
       "8  /N8536450\\nHIYCGZ MBLMFIQSEE\\nStudio 8\\nCarol ...   \n",
       "9  /T1924765\\nYASHOO VGASFWOELA\\n17 White groves\\...   \n",
       "\n",
       "                             :59A:  \\\n",
       "0     /T497120904545335293HDFCINBB   \n",
       "1  /A879108566593063636BCSIBRRSXXX   \n",
       "2  /X425865724734676749BCSIBRRSXXX   \n",
       "3  /V838759465724051813ABBYGB2LXXX   \n",
       "4  /G874551919922471904PARABRPRXXX   \n",
       "5  /C559942106949140595UBININBBXXX   \n",
       "6     /Y642043149058574298HSBCGB2L   \n",
       "7  /F534940023536855290BCSIBRRSXXX   \n",
       "8  /H679415063184588923BSFRBRSPXXX   \n",
       "9  /A848244270211364473ABBYGB2LXXX   \n",
       "\n",
       "                                               :59F: :71A:  \n",
       "0  /W2083346537\\n1\\TJYZLU OMKCVYOZXX\\n2\\Studio 56...   OUR  \n",
       "1  /N7764134276\\n1\\WBIFOY EOKWJMLJAD\\n2\\Studio 28...   SHA  \n",
       "2  /V9656040837\\n1\\WJNHGT DTKDBOFSIK\\n2\\Studio 75...   OUR  \n",
       "3  /D5891142008\\n1\\LUZMBD TDPATPFGYB\\n2\\134 Megan...   OUR  \n",
       "4  /P7464361768\\n1\\QMHPAX GJTKVLJQQQ\\n2\\718 Melan...   BEN  \n",
       "5  /P6955121921\\n1\\XYNVOE NTNYYSHYBN\\n2\\4 Smith j...   BEN  \n",
       "6  /N6044191711\\n1\\FIYJNJ XMXGJVMYQN\\n2\\Studio 09...   OUR  \n",
       "7  /L1938983540\\n1\\XYVRSS RWSCEBPVME\\n2\\399 Burns...   OUR  \n",
       "8  /E8222515548\\n1\\QENHUN OBPKSUGECC\\n2\\2 Russell...   OUR  \n",
       "9  /O1932811560\\n1\\BDJZXC CQPCTUDAJD\\n2\\Studio 19...   SHA  \n",
       "\n",
       "[10 rows x 31 columns]"
      ]
     },
     "execution_count": 15,
     "metadata": {},
     "output_type": "execute_result"
    }
   ],
   "source": [
    "output_path = \"output/output\"\n",
    "f = open(os.path.join(output_path,'synth_data.json'))\n",
    "json_strings = json.load(f)  \n",
    "# Since output are json strings, use this command to convert those into a dataframe\n",
    "\n",
    "data = [json.loads(js) for js in json_strings]\n",
    "\n",
    "df = pd.DataFrame(data)\n",
    "df.head(10)\n"
   ]
  },
  {
   "cell_type": "markdown",
   "id": "e153f4bc",
   "metadata": {},
   "source": [
    "### 4. Clean-up"
   ]
  },
  {
   "cell_type": "markdown",
   "id": "3a31f83b",
   "metadata": {},
   "source": [
    "#### Unsubscribe to the listing (optional)"
   ]
  },
  {
   "cell_type": "markdown",
   "id": "4264f180",
   "metadata": {},
   "source": [
    "If you would like to unsubscribe to the algorithm, follow these steps. Before you cancel the subscription, ensure that you do not have any [deployable model](https://console.aws.amazon.com/sagemaker/home#/models) created from the model package or using the algorithm. Note - You can find this information by looking at the container name associated with the model. \n",
    "\n",
    "**Steps to unsubscribe to product from AWS Marketplace**:\n",
    "1. Navigate to __Machine Learning__ tab on [__Your Software subscriptions page__](https://aws.amazon.com/marketplace/ai/library?productType=ml&ref_=mlmp_gitdemo_indust)\n",
    "2. Locate the listing that you want to cancel the subscription for, and then choose __Cancel Subscription__  to cancel the subscription."
   ]
  },
  {
   "cell_type": "code",
   "execution_count": null,
   "id": "0e5ba7ec",
   "metadata": {},
   "outputs": [],
   "source": []
  },
  {
   "cell_type": "code",
   "execution_count": null,
   "id": "58c916dc",
   "metadata": {},
   "outputs": [],
   "source": []
  }
 ],
 "metadata": {
  "kernelspec": {
   "display_name": "conda_python3",
   "language": "python",
   "name": "conda_python3"
  },
  "language_info": {
   "codemirror_mode": {
    "name": "ipython",
    "version": 3
   },
   "file_extension": ".py",
   "mimetype": "text/x-python",
   "name": "python",
   "nbconvert_exporter": "python",
   "pygments_lexer": "ipython3",
   "version": "3.6.13"
  }
 },
 "nbformat": 4,
 "nbformat_minor": 5
}
